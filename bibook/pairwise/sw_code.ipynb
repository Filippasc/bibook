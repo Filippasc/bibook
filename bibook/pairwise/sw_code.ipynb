{
 "cells": [
  {
   "cell_type": "markdown",
   "metadata": {},
   "source": [
    "# Code: Local Pairwise alignment"
   ]
  },
  {
   "cell_type": "markdown",
   "metadata": {
    "tags": [
     "hide-input"
    ]
   },
   "source": [
    "```{toggle}\n",
    "To facilitate the the reasoning in the subsequent cells, we first we define a couple of functions that we will need later, for formating and printing alignments. It is not important that you understand what these functions do, for now.\n",
    "```"
   ]
  },
  {
   "cell_type": "code",
   "execution_count": 1,
   "metadata": {
    "tags": [
     "hide-input"
    ]
   },
   "outputs": [],
   "source": [
    "import numpy as np\n",
    "\n",
    "# Print 2 sequences on top of each other\n",
    "def print_alignment(seqA,seqB):\n",
    "    print(seqA)\n",
    "    print(seqB)\n",
    "\n",
    "# Print a dynamic programming score matrix\n",
    "# together with its sequences\n",
    "def print_dynamic(seqA,seqB,dpm):\n",
    "    seqA,seqB = \"-\" + seqA, \"-\" + seqB\n",
    "    m,n = len(seqA),len(seqB)\n",
    "    print('{:^5}'.format(\" \"), end=\"\"),\n",
    "    for j in range(n):\n",
    "        print('{:^5}'.format(seqB[j]), end=\"\")\n",
    "    print()\n",
    "    for i in range(m):\n",
    "        print ('{:^5}'.format(seqA[i]), end=\"\")\n",
    "        for j in range(n):\n",
    "            print ('{:5.1f}'.format(dpm[i,j]), end=\"\")\n",
    "        print()\n",
    "    print()\n",
    "\n",
    "# Format an alignment by inserting gaps in sequences\n",
    "def format_alignment(seqA,seqB,S,trace):\n",
    "    print(\"Best score: \" + str(S[-1,-1]))\n",
    "    outA,outB = \"\",\"\"\n",
    "    i,j = len(seqA),len(seqB)\n",
    "    while i>0 or j>0:\n",
    "        di,dj = trace[i,j]\n",
    "        i += int(di)\n",
    "        j += int(dj)\n",
    "        if di == 0:\n",
    "            outA = \"-\" + outA\n",
    "        else:\n",
    "            outA = seqA[i] + outA\n",
    "        if dj == 0:\n",
    "            outB = \"-\" + outB\n",
    "        else:\n",
    "            outB = seqB[j] + outB\n",
    "    return outA,outB"
   ]
  },
  {
   "cell_type": "markdown",
   "metadata": {},
   "source": [
    "## Scoring system for DNA sequences\n",
    "We setup the scoring system we need for the alignment of DNA sequences. Here we use a score system where gaps score -2 and miss matches are scored -1 and matches get a score of 3."
   ]
  },
  {
   "cell_type": "code",
   "execution_count": 2,
   "metadata": {},
   "outputs": [],
   "source": [
    "def gap_penalty():\n",
    "    return -2.0\n",
    "\n",
    "def match_score(letterA,letterB):\n",
    "    if letterA == '-' or letterB == '-':\n",
    "        return gap_penalty()\n",
    "    elif letterA == letterB:\n",
    "        return 3.0\n",
    "    else:\n",
    "        return -1.0\n"
   ]
  },
  {
   "cell_type": "markdown",
   "metadata": {},
   "source": [
    "## Local alignments using Smith-Waterman\n",
    "\n",
    "Smith-Waterman alignments are similar to the ones of Needleman-Wunsch. The difference sits in the initiation of the dynamic programming matrix, and how we trace the most optimal alignment. We will implement these difference by redefining some functions.\n",
    "\n",
    "First the initiation of the dynamic programming matrix $S$:\n",
    "$S_{i0}=0, \\forall i,$\n",
    "$S_{0j}=0, \\forall j$\n"
   ]
  },
  {
   "cell_type": "code",
   "execution_count": 9,
   "metadata": {},
   "outputs": [],
   "source": [
    "# Initiating dynamic programming matrices, S and trace\n",
    "def initiate_local_dp(m,n):\n",
    "    S = np.zeros((m,n))\n",
    "    trace = np.zeros((m,n,2))\n",
    "    S[0,0] = 0.\n",
    "    trace[0,0,:] = (0.,0.)\n",
    "    for i in range(1,m):\n",
    "        S[i,0] = 0\n",
    "        trace[i,0,:] =(0,0)\n",
    "    for j in range(1,n):\n",
    "        S[0,j] = 0\n",
    "        trace[0,j,:] =(0,0)\n",
    "    return S,trace"
   ]
  },
  {
   "cell_type": "markdown",
   "metadata": {},
   "source": [
    "Subsequently, the rest of $S$ is filled as:\n",
    "$S_{ij}=\\max\\left\\{\n",
    "\\begin{array}{ll}\n",
    "S_{i-1,j-1} & +d(a_i,b_j)\\\\\n",
    "S_{i-1,j} & +d(a_i,-)\\\\\n",
    "S_{i,j-1} & +d(-,b_j)\\\\\n",
    "0\n",
    "\\end{array}\n",
    "\\right.$\n"
   ]
  },
  {
   "cell_type": "code",
   "execution_count": null,
   "metadata": {},
   "outputs": [],
   "source": [
    "def local_align(seqA,seqB,print_dynamic_matrix = False):\n",
    "    # Initiating variables\n",
    "    m, n = len(seqA)+1, len(seqB)+1\n",
    "    S,trace = initiate_local_dp(m,n)\n",
    "    # Fill in the rest of the dynamic programming matrix\n",
    "    for i in range(1,m):\n",
    "        for j in range(1,n):\n",
    "            match = S[i-1][j-1] + match_score(seqA[i-1],seqB[j-1])\n",
    "            delete = S[i-1,j] + match_score(seqA[i-1],'-') \n",
    "            insert = S[i,j-1] + match_score('-',seqB[j-1]) \n",
    "            S[i,j] = max(match, delete, insert, 0.)\n",
    "            if match >= max(delete,insert,0.):\n",
    "                trace[i,j,:] = (-1,-1.)\n",
    "            elif delete >= max(insert,0.):\n",
    "                trace[i,j,:] = (-1.,0.)\n",
    "            elif insert >= 0.:\n",
    "                trace[i,j,:] = (0.,-1.)\n",
    "            else:\n",
    "                trace[i,j,:] = (0.,0.)\n",
    "    if print_dynamic_matrix:\n",
    "        print_dynamic(seqA,seqB,S)\n",
    "    return format_local_alignment(seqA,seqB,S,trace)"
   ]
  },
  {
   "cell_type": "markdown",
   "metadata": {
    "tags": [
     "hide-input"
    ]
   },
   "source": [
    "We also need a slightly different method to trace the the alignment. It is not essential you understand this code."
   ]
  },
  {
   "cell_type": "code",
   "execution_count": null,
   "metadata": {
    "tags": [
     "hide-input"
    ]
   },
   "outputs": [],
   "source": [
    "def format_local_alignment(seqA,seqB,S,trace):\n",
    "    outA,outB = \"\",\"\"\n",
    "    i,j = np.unravel_index(S.argmax(),S.shape)\n",
    "    print(\"Best score: \" + str(S[i,j]))\n",
    "    while min(trace[i,j])<0:\n",
    "        di,dj = trace[i,j]\n",
    "        i += int(di)\n",
    "        j += int(dj)\n",
    "        if di == 0:\n",
    "            outA = \"-\" + outA\n",
    "        else:\n",
    "            outA = seqA[i] + outA\n",
    "        if dj == 0:\n",
    "            outB = \"-\" + outB\n",
    "        else:\n",
    "            outB = seqB[j] + outB\n",
    "    return outA,outB"
   ]
  },
  {
   "cell_type": "code",
   "execution_count": 11,
   "metadata": {},
   "outputs": [
    {
     "name": "stdout",
     "output_type": "stream",
     "text": [
      "       -    G    C    T    A    C  \n",
      "  -    0.0  0.0  0.0  0.0  0.0  0.0\n",
      "  G    0.0  3.0  1.0  0.0  0.0  0.0\n",
      "  A    0.0  1.0  2.0  0.0  3.0  1.0\n",
      "  T    0.0  0.0  0.0  5.0  3.0  2.0\n",
      "  T    0.0  0.0  0.0  3.0  4.0  2.0\n",
      "  A    0.0  0.0  0.0  1.0  6.0  4.0\n",
      "\n",
      "Best score: 6.0\n",
      "GATTA\n",
      "G-CTA\n"
     ]
    }
   ],
   "source": [
    "seqA,seqB = local_align(\"GATTA\",\"GCTAC\",True)\n",
    "print_alignment(seqA,seqB)"
   ]
  },
  {
   "cell_type": "code",
   "execution_count": 12,
   "metadata": {},
   "outputs": [
    {
     "name": "stdout",
     "output_type": "stream",
     "text": [
      "       -    G    C    T    T    A    C  \n",
      "  -    0.0  0.0  0.0  0.0  0.0  0.0  0.0\n",
      "  G    0.0  3.0  1.0  0.0  0.0  0.0  0.0\n",
      "  C    0.0  1.0  6.0  4.0  2.0  0.0  3.0\n",
      "  G    0.0  3.0  4.0  5.0  3.0  1.0  1.0\n",
      "  A    0.0  1.0  2.0  3.0  4.0  6.0  4.0\n",
      "  T    0.0  0.0  0.0  5.0  6.0  4.0  5.0\n",
      "  T    0.0  0.0  0.0  3.0  8.0  6.0  4.0\n",
      "  A    0.0  0.0  0.0  1.0  6.0 11.0  9.0\n",
      "\n",
      "Best score: 11.0\n",
      "GATTA\n",
      "GCTTA\n"
     ]
    }
   ],
   "source": [
    "seqA,seqB = local_align(\"GCGATTA\",\"GCTTAC\",True)\n",
    "print_alignment(seqA,seqB)"
   ]
  },
  {
   "cell_type": "code",
   "execution_count": 13,
   "metadata": {},
   "outputs": [
    {
     "name": "stdout",
     "output_type": "stream",
     "text": [
      "       -    C    T    A    C    G    C    T    A    T    T    T    C    A  \n",
      "  -    0.0  0.0  0.0  0.0  0.0  0.0  0.0  0.0  0.0  0.0  0.0  0.0  0.0  0.0\n",
      "  C    0.0  3.0  1.0  0.0  3.0  1.0  3.0  1.0  0.0  0.0  0.0  0.0  3.0  1.0\n",
      "  T    0.0  1.0  6.0  4.0  2.0  2.0  1.0  6.0  4.0  3.0  3.0  3.0  1.0  2.0\n",
      "  A    0.0  0.0  4.0  9.0  7.0  5.0  3.0  4.0  9.0  7.0  5.0  3.0  2.0  4.0\n",
      "  T    0.0  0.0  3.0  7.0  8.0  6.0  4.0  6.0  7.0 12.0 10.0  8.0  6.0  4.0\n",
      "  C    0.0  3.0  1.0  5.0 10.0  8.0  9.0  7.0  5.0 10.0 11.0  9.0 11.0  9.0\n",
      "  T    0.0  1.0  6.0  4.0  8.0  9.0  7.0 12.0 10.0  8.0 13.0 14.0 12.0 10.0\n",
      "  C    0.0  3.0  4.0  5.0  7.0  7.0 12.0 10.0 11.0  9.0 11.0 12.0 17.0 15.0\n",
      "  G    0.0  1.0  2.0  3.0  5.0 10.0 10.0 11.0  9.0 10.0  9.0 10.0 15.0 16.0\n",
      "  C    0.0  3.0  1.0  1.0  6.0  8.0 13.0 11.0 10.0  8.0  9.0  8.0 13.0 14.0\n",
      "  T    0.0  1.0  6.0  4.0  4.0  6.0 11.0 16.0 14.0 13.0 11.0 12.0 11.0 12.0\n",
      "  A    0.0  0.0  4.0  9.0  7.0  5.0  9.0 14.0 19.0 17.0 15.0 13.0 11.0 14.0\n",
      "  T    0.0  0.0  3.0  7.0  8.0  6.0  7.0 12.0 17.0 22.0 20.0 18.0 16.0 14.0\n",
      "  C    0.0  3.0  1.0  5.0 10.0  8.0  9.0 10.0 15.0 20.0 21.0 19.0 21.0 19.0\n",
      "  C    0.0  3.0  2.0  3.0  8.0  9.0 11.0  9.0 13.0 18.0 19.0 20.0 22.0 20.0\n",
      "  A    0.0  1.0  2.0  5.0  6.0  7.0  9.0 10.0 12.0 16.0 17.0 18.0 20.0 25.0\n",
      "\n",
      "Best score: 25.0\n",
      "CT-CGCTA-TCCA\n",
      "CTACGCTATTTCA\n"
     ]
    }
   ],
   "source": [
    "seqA,seqB = local_align(\"CTATCTCGCTATCCA\",\"CTACGCTATTTCA\",True)\n",
    "print_alignment(seqA,seqB)"
   ]
  }
 ],
 "metadata": {
  "kernelspec": {
   "display_name": "Python 3 (ipykernel)",
   "language": "python",
   "name": "python3"
  },
  "language_info": {
   "codemirror_mode": {
    "name": "ipython",
    "version": 3
   },
   "file_extension": ".py",
   "mimetype": "text/x-python",
   "name": "python",
   "nbconvert_exporter": "python",
   "pygments_lexer": "ipython3",
   "version": "3.9.13"
  }
 },
 "nbformat": 4,
 "nbformat_minor": 4
}
